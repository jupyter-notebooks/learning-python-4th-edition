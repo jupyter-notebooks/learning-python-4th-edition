{
 "metadata": {
  "name": "Scopes"
 },
 "nbformat": 3,
 "nbformat_minor": 0,
 "worksheets": [
  {
   "cells": [
    {
     "cell_type": "markdown",
     "metadata": {},
     "source": [
      "##Learning Python 4th Edition\n",
      "###Scopes"
     ]
    },
    {
     "cell_type": "markdown",
     "metadata": {},
     "source": [
      "####Scopes and Nested Functions\n",
      "So far, I\u2019ve omitted one part of Python\u2019s scope rules on purpose, because it\u2019s relatively\n",
      "rare to encounter it in practice. However, it\u2019s time to take a deeper look at the letter\n",
      "E in the LEGB lookup rule. The E layer is fairly new (it was added in Python 2.2); it\n",
      "takes the form of the local scopes of any and all enclosing function `defs`. Enclosing\n",
      "scopes are sometimes also called *statically nested scopes*. Really, the nesting is a lexical\n",
      "one\u2014nested scopes correspond to physically and syntactically nested code structures\n",
      "in your program\u2019s source code."
     ]
    },
    {
     "cell_type": "markdown",
     "metadata": {},
     "source": [
      "####Nested Scope Details\n",
      "With the addition of nested function scopes, variable lookup rules become slightly more\n",
      "complex. Within a function:\n",
      "\n",
      "- A reference (`X`) looks for the name `X` first in the current local scope (function); then\n",
      "in the local scopes of any lexically enclosing functions in your source code, from\n",
      "inner to outer; then in the current global scope (the module file); and finally in the\n",
      "built-in scope (the module `builtins`). `global` declarations make the search begin\n",
      "in the global (module file) scope instead.\n",
      "\n",
      "- An assignment (`X = value`) creates or changes the name `X` in the current local scope,\n",
      "by default. If `X` is declared global within the function, the assignment creates or\n",
      "changes the name `X` in the enclosing module\u2019s scope instead. If, on the other hand,\n",
      "`X` is declared *nonlocal* within the function, the assignment changes the name `X` in\n",
      "the closest enclosing function\u2019s local scope.\n",
      "\n",
      "Notice that the `global` declaration still maps variables to the enclosing module. When\n",
      "nested functions are present, variables in enclosing functions may be referenced, but\n",
      "they require `nonlocal` declarations to be changed."
     ]
    },
    {
     "cell_type": "code",
     "collapsed": false,
     "input": [
      "X = 99 # Global scope name: not used\n",
      "def f1():\n",
      "    X = 88 # Enclosing def local\n",
      "    def f2():\n",
      "        print(X) # Reference made in nested def\n",
      "    f2()\n",
      "\n",
      "f1() # Prints 88: enclosing def local"
     ],
     "language": "python",
     "metadata": {},
     "outputs": [
      {
       "output_type": "stream",
       "stream": "stdout",
       "text": [
        "88\n"
       ]
      }
     ],
     "prompt_number": 8
    },
    {
     "cell_type": "markdown",
     "metadata": {},
     "source": [
      "First off, this is legal Python code: the `def` is simply an executable statement, which can\n",
      "appear anywhere any other statement can\u2014including nested in another `def`. Here, the nested `def` runs while a call to the function `f1` is running; it generates a function and\n",
      "assigns it to the name `f2`, a local variable within `f1`\u2019s local scope. In a sense, `f2` is a\n",
      "temporary function that lives only during the execution of (and is visible only to code\n",
      "in) the enclosing `f1`.\n",
      "\n",
      "But notice what happens inside `f2`: when it prints the variable `X`, it refers to the `X` that\n",
      "lives in the enclosing `f1` function\u2019s local scope. Because functions can access names in\n",
      "all physically enclosing `def` statements, the `X` in `f2` is automatically mapped to the `X` in\n",
      "`f1`, by the LEGB lookup rule.\n",
      "\n",
      "This enclosing scope lookup works even if the enclosing function has already returned.\n",
      "For example, the following code defines a function that makes and returns another\n",
      "function:"
     ]
    },
    {
     "cell_type": "code",
     "collapsed": false,
     "input": [
      "def f1():\n",
      "    X = 88\n",
      "    def f2():\n",
      "        print(X) # Remembers X in enclosing def scope\n",
      "    return f2 # Return f2 but don't call it\n",
      "\n",
      "action = f1() # Make, return function\n",
      "action() # Call it now: prints 88"
     ],
     "language": "python",
     "metadata": {},
     "outputs": [
      {
       "output_type": "stream",
       "stream": "stdout",
       "text": [
        "88\n"
       ]
      }
     ],
     "prompt_number": 9
    },
    {
     "cell_type": "markdown",
     "metadata": {},
     "source": [
      "####Factory functions\n",
      "Depending on whom you ask, this sort of behavior is also sometimes called a closure\n",
      "or factory function. These terms refer to a function object that remembers values in\n",
      "enclosing scopes regardless of whether those scopes are still present in memory. Although classes are usually best at remembering state because they make it explicit with attribute assignments, such functions provide an alternative.\n",
      "\n",
      "For instance, factory functions are sometimes used by programs that need to generate\n",
      "event handlers on the fly in response to conditions at runtime (e.g., user inputs that\n",
      "cannot be anticipated). Look at the following function, for example:"
     ]
    },
    {
     "cell_type": "code",
     "collapsed": false,
     "input": [
      ">>> def maker(N):\n",
      "...     def action(X): # Make and return action\n",
      "...         return X ** N # action retains N from enclosing scope\n",
      "...     return action"
     ],
     "language": "python",
     "metadata": {},
     "outputs": [],
     "prompt_number": 11
    },
    {
     "cell_type": "markdown",
     "metadata": {},
     "source": [
      "This defines an outer function that simply generates and returns a nested function,\n",
      "without calling it. If we call the outer function:"
     ]
    },
    {
     "cell_type": "code",
     "collapsed": false,
     "input": [
      ">>> f = maker(2) # Pass 2 to N\n",
      ">>> f"
     ],
     "language": "python",
     "metadata": {},
     "outputs": [
      {
       "metadata": {},
       "output_type": "pyout",
       "prompt_number": 12,
       "text": [
        "<function __main__.action>"
       ]
      }
     ],
     "prompt_number": 12
    },
    {
     "cell_type": "markdown",
     "metadata": {},
     "source": [
      "what we get back is a reference to the generated nested function\u2014the one created by\n",
      "running the nested def. If we now call what we got back from the outer function:"
     ]
    },
    {
     "cell_type": "code",
     "collapsed": false,
     "input": [
      ">>> f(3) # Pass 3 to X, N remembers 2: 3 ** 2"
     ],
     "language": "python",
     "metadata": {},
     "outputs": [
      {
       "metadata": {},
       "output_type": "pyout",
       "prompt_number": 14,
       "text": [
        "9"
       ]
      }
     ],
     "prompt_number": 14
    },
    {
     "cell_type": "code",
     "collapsed": false,
     "input": [
      ">>> f(4) # 4 ** 2"
     ],
     "language": "python",
     "metadata": {},
     "outputs": [
      {
       "metadata": {},
       "output_type": "pyout",
       "prompt_number": 15,
       "text": [
        "16"
       ]
      }
     ],
     "prompt_number": 15
    },
    {
     "cell_type": "markdown",
     "metadata": {},
     "source": [
      "it invokes the nested function\u2014the one called action within maker. The most unusual\n",
      "part of this is that the nested function remembers integer 2, the value of the variable N\n",
      "in maker, even though maker has returned and exited by the time we call action. In effect,\n",
      "N from the enclosing local scope is retained as state information attached to action, and\n",
      "we get back its argument squared.\n",
      "\n",
      "If we now call the outer function again, we get back a new nested function with different\n",
      "state information attached. That is, we get the argument cubed instead of squared, but\n",
      "the original still squares as before:"
     ]
    },
    {
     "cell_type": "code",
     "collapsed": false,
     "input": [
      ">>> g = maker(3) # g remembers 3, f remembers 2\n",
      ">>> g(3) # 3 ** 3"
     ],
     "language": "python",
     "metadata": {},
     "outputs": [
      {
       "metadata": {},
       "output_type": "pyout",
       "prompt_number": 16,
       "text": [
        "27"
       ]
      }
     ],
     "prompt_number": 16
    },
    {
     "cell_type": "code",
     "collapsed": false,
     "input": [
      ">>> f(3) # 3 ** 2"
     ],
     "language": "python",
     "metadata": {},
     "outputs": [
      {
       "metadata": {},
       "output_type": "pyout",
       "prompt_number": 17,
       "text": [
        "9"
       ]
      }
     ],
     "prompt_number": 17
    },
    {
     "cell_type": "markdown",
     "metadata": {},
     "source": [
      "This works because each call to a factory function like this gets its own set of state information. In our case, the function we assign to name g remembers 3, and f remembers 2, because each has its ownstate information retained by the variable N in maker."
     ]
    },
    {
     "cell_type": "markdown",
     "metadata": {},
     "source": [
      "####Nested scopes and lambdas\n",
      "While they\u2019re rarely used in practice for defs themselves, you are more likely to care\n",
      "about nested function scopes when you start coding lambda expressions. We won\u2019t\n",
      "cover lambda in depth until Chapter 19, but in short, it\u2019s an expression that generates\n",
      "a new function to be called later, much like a def statement. Because it\u2019s an expression, though, it can be used in places that def cannot, such as within list and dictionary\n",
      "literals.\n",
      "\n",
      "Like a def, a lambda expression introduces a new local scope for the function it creates.\n",
      "Thanks to the enclosing scopes lookup layer, lambdas can see all the variables that live\n",
      "in the functions in which they are coded. Thus, the following code works, but only\n",
      "because the nested scope rules are applied:\n"
     ]
    },
    {
     "cell_type": "code",
     "collapsed": false,
     "input": [
      "def func():\n",
      "   x = 4\n",
      "   action = (lambda n: x ** n) # x remembered from enclosing def\n",
      "   return action\n",
      "\n",
      "x = func()\n",
      "print(x(2)) # Prints 16, 4 ** 2"
     ],
     "language": "python",
     "metadata": {},
     "outputs": [
      {
       "output_type": "stream",
       "stream": "stdout",
       "text": [
        "16\n"
       ]
      }
     ],
     "prompt_number": 18
    },
    {
     "cell_type": "markdown",
     "metadata": {},
     "source": [
      "Prior to the introduction of nested function scopes, programmers used defaults to pass\n",
      "values from an enclosing scope into lambdas, just as for defs. For instance, the following\n",
      "works on all Python releases:"
     ]
    },
    {
     "cell_type": "code",
     "collapsed": false,
     "input": [
      "def func():\n",
      "    x = 4\n",
      "    action = (lambda n, x=x: x ** n) # Pass x in manually\n",
      "    return action"
     ],
     "language": "python",
     "metadata": {},
     "outputs": [],
     "prompt_number": 19
    },
    {
     "cell_type": "markdown",
     "metadata": {},
     "source": [
      "Because lambdas are expressions, they naturally (and even normally) nest inside enclosing defs. Hence, they are perhaps the biggest beneficiaries of the addition of enclosing function scopes in the lookup rules; in most cases, it is no longer necessary to pass values into lambdas with defaults.\n",
      "\n",
      "####Scopes versus defaults with loop variables\n",
      "There is one notable exception to the rule I just gave: if a lambda or def defined within\n",
      "a function is nested inside a loop, and the nested function references an enclosing scope\n",
      "variable that is changed by that loop, all functions generated within the loop will have\n",
      "the same value\u2014the value the referenced variable had in the last loop iteration.\n",
      "\n",
      "For instance, the following attempts to build up a list of functions that each remember\n",
      "the current variable i from the enclosing scope:"
     ]
    },
    {
     "cell_type": "code",
     "collapsed": false,
     "input": [
      ">>> def makeActions():\n",
      "...     acts = []\n",
      "...     for i in range(5): # Tries to remember each i\n",
      "...         acts.append(lambda x: i ** x) # All remember same last i!\n",
      "...     return acts"
     ],
     "language": "python",
     "metadata": {},
     "outputs": [],
     "prompt_number": 20
    },
    {
     "cell_type": "code",
     "collapsed": false,
     "input": [
      ">>> acts = makeActions()\n",
      ">>> acts[0]"
     ],
     "language": "python",
     "metadata": {},
     "outputs": [
      {
       "metadata": {},
       "output_type": "pyout",
       "prompt_number": 21,
       "text": [
        "<function __main__.<lambda>>"
       ]
      }
     ],
     "prompt_number": 21
    },
    {
     "cell_type": "markdown",
     "metadata": {},
     "source": [
      "This doesn\u2019t quite work, though\u2014because the enclosing scope variable is looked up\n",
      "when the nested functions are later called, they all effectively remember the same value (the value the loop variable had on the last loop iteration). That is, we get back 4 to the\n",
      "power of 2 for each function in the list, because i is the same in all of them:"
     ]
    },
    {
     "cell_type": "code",
     "collapsed": false,
     "input": [
      ">>> acts[0](2) # All are 4 ** 2, value of last i"
     ],
     "language": "python",
     "metadata": {},
     "outputs": [
      {
       "metadata": {},
       "output_type": "pyout",
       "prompt_number": 22,
       "text": [
        "16"
       ]
      }
     ],
     "prompt_number": 22
    },
    {
     "cell_type": "code",
     "collapsed": false,
     "input": [
      ">>> acts[2](2) # This should be 2 ** 2"
     ],
     "language": "python",
     "metadata": {},
     "outputs": [
      {
       "metadata": {},
       "output_type": "pyout",
       "prompt_number": 23,
       "text": [
        "16"
       ]
      }
     ],
     "prompt_number": 23
    },
    {
     "cell_type": "code",
     "collapsed": false,
     "input": [
      ">>> acts[4](2) # This should be 4 ** 2"
     ],
     "language": "python",
     "metadata": {},
     "outputs": [
      {
       "metadata": {},
       "output_type": "pyout",
       "prompt_number": 24,
       "text": [
        "16"
       ]
      }
     ],
     "prompt_number": 24
    },
    {
     "cell_type": "markdown",
     "metadata": {},
     "source": [
      "This is the one case where we still have to explicitly retain enclosing scope values with\n",
      "default arguments, rather than enclosing scope references. That is, to make this sort of\n",
      "code work, we must pass in the current value of the enclosing scope\u2019s variable with a\n",
      "default. Because defaults are evaluated when the nested function is created (not when\n",
      "it\u2019s later called), each remembers its own value for i:"
     ]
    },
    {
     "cell_type": "code",
     "collapsed": false,
     "input": [
      ">>> def makeActions():\n",
      "...     acts = []\n",
      "...     for i in range(5): # Use defaults instead\n",
      "...         acts.append(lambda x, i=i: i ** x) # Remember current i\n",
      "...     return acts"
     ],
     "language": "python",
     "metadata": {},
     "outputs": [],
     "prompt_number": 25
    },
    {
     "cell_type": "code",
     "collapsed": false,
     "input": [
      ">>> acts = makeActions()\n",
      ">>> acts[0](2) # 0 ** 2"
     ],
     "language": "python",
     "metadata": {},
     "outputs": [
      {
       "metadata": {},
       "output_type": "pyout",
       "prompt_number": 26,
       "text": [
        "0"
       ]
      }
     ],
     "prompt_number": 26
    },
    {
     "cell_type": "code",
     "collapsed": false,
     "input": [
      ">>> acts[2](2) # 2 ** 2"
     ],
     "language": "python",
     "metadata": {},
     "outputs": [
      {
       "metadata": {},
       "output_type": "pyout",
       "prompt_number": 27,
       "text": [
        "4"
       ]
      }
     ],
     "prompt_number": 27
    },
    {
     "cell_type": "code",
     "collapsed": false,
     "input": [
      ">>> acts[4](2) # 4 ** 2"
     ],
     "language": "python",
     "metadata": {},
     "outputs": [
      {
       "metadata": {},
       "output_type": "pyout",
       "prompt_number": 28,
       "text": [
        "16"
       ]
      }
     ],
     "prompt_number": 28
    },
    {
     "cell_type": "markdown",
     "metadata": {},
     "source": [
      "This is a fairly obscure case, but it can come up in practice, especially in code that generates callback handler functions for a number of widgets in a GUI (e.g., button-press handlers)."
     ]
    },
    {
     "cell_type": "markdown",
     "metadata": {},
     "source": [
      "####State with function attributes\n",
      "As a final state-retention option, we can also sometimes achieve the same effect as\n",
      "nonlocals with function attributes\u2014user-defined names attached to functions directly.\n",
      "Here\u2019s a final version of our example based on this technique\u2014it replaces a nonlocal\n",
      "with an attribute attached to the nested function. Although this scheme may not be as\n",
      "intuitive to some, it also allows the state variable to be accessed outside the nested\n",
      "function (with nonlocals, we can only see state variables within the nested def):"
     ]
    },
    {
     "cell_type": "code",
     "collapsed": false,
     "input": [
      ">>> def tester(start):\n",
      "...     def nested(label):\n",
      "...         print(label, nested.state) # nested is in enclosing scope\n",
      "...         nested.state += 1 # Change attr, not nested itself\n",
      "...     nested.state = start # Initial state after func defined\n",
      "...     return nested"
     ],
     "language": "python",
     "metadata": {},
     "outputs": [],
     "prompt_number": 2
    },
    {
     "cell_type": "code",
     "collapsed": false,
     "input": [
      ">>> F = tester(0)\n",
      ">>> F('spam') # F is a 'nested' with state attached"
     ],
     "language": "python",
     "metadata": {},
     "outputs": [
      {
       "output_type": "stream",
       "stream": "stdout",
       "text": [
        "('spam', 0)\n"
       ]
      }
     ],
     "prompt_number": 3
    },
    {
     "cell_type": "code",
     "collapsed": false,
     "input": [
      ">>> F('ham')"
     ],
     "language": "python",
     "metadata": {},
     "outputs": [
      {
       "output_type": "stream",
       "stream": "stdout",
       "text": [
        "('ham', 1)\n"
       ]
      }
     ],
     "prompt_number": 4
    },
    {
     "cell_type": "code",
     "collapsed": false,
     "input": [
      ">>> F.state # Can access state outside functions too"
     ],
     "language": "python",
     "metadata": {},
     "outputs": [
      {
       "metadata": {},
       "output_type": "pyout",
       "prompt_number": 5,
       "text": [
        "2"
       ]
      }
     ],
     "prompt_number": 5
    },
    {
     "cell_type": "code",
     "collapsed": false,
     "input": [
      ">>> G = tester(42) # G has own state, doesn't overwrite F's"
     ],
     "language": "python",
     "metadata": {},
     "outputs": [],
     "prompt_number": 6
    },
    {
     "cell_type": "code",
     "collapsed": false,
     "input": [
      ">>> G('eggs')\n",
      ">>> F('ham')"
     ],
     "language": "python",
     "metadata": {},
     "outputs": [
      {
       "output_type": "stream",
       "stream": "stdout",
       "text": [
        "('eggs', 42)\n",
        "('ham', 2)\n"
       ]
      }
     ],
     "prompt_number": 7
    },
    {
     "cell_type": "markdown",
     "metadata": {},
     "source": [
      "This code relies on the fact that the function name `nested` is a local variable in the\n",
      "`tester` scope enclosing `nested`; as such, it can be referenced freely inside `nested`. This\n",
      "code also relies on the fact that changing an object in-place is not an assignment to a name; when it increments `nested.state`, it is changing part of the object `nested` references, not the name `nested` itself. Because we're not really assigning a name in the enclosing scope, no `nonlocal` is needed.\n",
      "\n",
      "As you can see, globals, nonlocals, classes, and function attributes all offer\n",
      "state-retention options. Globals only support shared data, classes require a basic\n",
      "knowledge of OOP, and both classes and function attributes allow state to be accessed\n",
      "outside the nested function itself. As usual, the best tool for your program depends\n",
      "upon your program\u2019s goals."
     ]
    },
    {
     "cell_type": "code",
     "collapsed": false,
     "input": [
      "#This makes everything pretty\n",
      "\n",
      "from IPython.core.display import HTML\n",
      "from urllib import urlopen\n",
      "def css_styling():\n",
      "    styles = open('styles/custom.css', 'r').read()\n",
      "    return HTML(styles)\n",
      "css_styling()"
     ],
     "language": "python",
     "metadata": {},
     "outputs": [
      {
       "html": [
        "<style>\n",
        "    @font-face {\n",
        "        font-family: \"Computer Modern\";\n",
        "        src: url('http://9dbb143991406a7c655e-aa5fcb0a5a4ec34cff238a2d56ca4144.r56.cf5.rackcdn.com/cmunss.otf');\n",
        "    }\n",
        "    @font-face {\n",
        "        font-family: \"Computer Modern\";\n",
        "        font-weight: bold;\n",
        "        src: url('http://9dbb143991406a7c655e-aa5fcb0a5a4ec34cff238a2d56ca4144.r56.cf5.rackcdn.com/cmunsx.otf');\n",
        "    }\n",
        "    @font-face {\n",
        "        font-family: \"Computer Modern\";\n",
        "        font-style: oblique;\n",
        "        src: url('http://9dbb143991406a7c655e-aa5fcb0a5a4ec34cff238a2d56ca4144.r56.cf5.rackcdn.com/cmunsi.otf');\n",
        "    }\n",
        "    @font-face {\n",
        "        font-family: \"Computer Modern\";\n",
        "        font-weight: bold;\n",
        "        font-style: oblique;\n",
        "        src: url('http://9dbb143991406a7c655e-aa5fcb0a5a4ec34cff238a2d56ca4144.r56.cf5.rackcdn.com/cmunso.otf');\n",
        "    }\n",
        "    div.cell{\n",
        "        width:800px;\n",
        "        margin-left:16% !important;\n",
        "        margin-right:auto;\n",
        "    }\n",
        "    h1 {\n",
        "        font-family: Helvetica, serif;\n",
        "    }\n",
        "    h4{\n",
        "        margin-top:12px;\n",
        "        margin-bottom: 3px;\n",
        "       }\n",
        "    div.text_cell_render{\n",
        "        font-family: Computer Modern, \"Helvetica Neue\", Arial, Helvetica, Geneva, sans-serif;\n",
        "        line-height: 145%;\n",
        "        font-size: 130%;\n",
        "        width:800px;\n",
        "        margin-left:auto;\n",
        "        margin-right:auto;\n",
        "    }\n",
        "    .CodeMirror{\n",
        "            font-family: \"Source Code Pro\", source-code-pro,Consolas, monospace;\n",
        "    }\n",
        "    .prompt{\n",
        "        display: None;\n",
        "    }\n",
        "    .text_cell_render h5 {\n",
        "        font-weight: 300;\n",
        "        font-size: 22pt;\n",
        "        color: #4057A1;\n",
        "        font-style: italic;\n",
        "        margin-bottom: .5em;\n",
        "        margin-top: 0.5em;\n",
        "        display: block;\n",
        "    }\n",
        "    \n",
        "    .warning{\n",
        "        color: rgb( 240, 20, 20 )\n",
        "        }  \n",
        "</style>\n",
        "<script>\n",
        "    MathJax.Hub.Config({\n",
        "                        TeX: {\n",
        "                           extensions: [\"AMSmath.js\"]\n",
        "                           },\n",
        "                tex2jax: {\n",
        "                    inlineMath: [ ['$','$'], [\"\\\\(\",\"\\\\)\"] ],\n",
        "                    displayMath: [ ['$$','$$'], [\"\\\\[\",\"\\\\]\"] ]\n",
        "                },\n",
        "                displayAlign: 'center', // Change this to 'center' to center equations.\n",
        "                \"HTML-CSS\": {\n",
        "                    styles: {'.MathJax_Display': {\"margin\": 4}}\n",
        "                }\n",
        "        });\n",
        "</script>\n"
       ],
       "metadata": {},
       "output_type": "pyout",
       "prompt_number": 1,
       "text": [
        "<IPython.core.display.HTML at 0x372d530>"
       ]
      }
     ],
     "prompt_number": 1
    },
    {
     "cell_type": "code",
     "collapsed": false,
     "input": [],
     "language": "python",
     "metadata": {},
     "outputs": []
    }
   ],
   "metadata": {}
  }
 ]
}