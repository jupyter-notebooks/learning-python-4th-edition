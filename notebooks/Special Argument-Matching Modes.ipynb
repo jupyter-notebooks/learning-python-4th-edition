{
 "metadata": {
  "name": "Special Argument-Matching Modes"
 },
 "nbformat": 3,
 "nbformat_minor": 0,
 "worksheets": [
  {
   "cells": [
    {
     "cell_type": "markdown",
     "metadata": {},
     "source": [
      "#Learning Python 4th Edition\n",
      "\n",
      "##Special Argument-Matching Modes\n",
      "\n",
      "###The min Wakeup Call!\n",
      "Suppose you want to code a function that is able to compute the minimum value from\n",
      "an arbitrary set of arguments and an arbitrary set of object data types. That is, the\n",
      "function should accept zero or more arguments, as many as you wish to pass. Moreover,\n",
      "the function should work for all kinds of Python object types: numbers, strings, lists,\n",
      "lists of dictionaries, files, and even None.\n",
      "\n",
      "The first requirement provides a natural example of how the * feature can be put to\n",
      "good use\u2014we can collect arguments into a tuple and step over each of them in turn\n",
      "with a simple for loop. The second part of the problem definition is easy: because every object type supports comparisons, we don\u2019t have to specialize the function per type (an application of polymorphism); we can simply compare objects blindly and let Python worry about what sort of comparison to perform.\n",
      "\n",
      "###Full Credit\n",
      "\n",
      "The following file shows three ways to code this operation, at least one of which was\n",
      "suggested by a student in one of my courses:\n",
      "\n",
      "* The first function fetches the first argument (args is a tuple) and traverses the rest\n",
      "by slicing off the first (there\u2019s no point in comparing an object to itself, especially\n",
      "if it might be a large structure).\n",
      "\n",
      "* The first function fetches the first argument (args is a tuple) and traverses the rest\n",
      "by slicing off the first (there\u2019s no point in comparing an object to itself, especially\n",
      "if it might be a large structure).\n",
      "\n",
      "* The third converts from a tuple to a list with the built-in list call and employs the\n",
      "list sort method.\n"
     ]
    },
    {
     "cell_type": "code",
     "collapsed": false,
     "input": [
      "def min1(*args):\n",
      "    res = args[0]\n",
      "    for arg in args[1:]:\n",
      "        if arg < res:\n",
      "            res = arg\n",
      "    return res\n",
      "\n",
      "def min2(first, *rest):\n",
      "    for arg in rest:\n",
      "        if arg < first:\n",
      "            first = arg\n",
      "    return first\n",
      "\n",
      "def min3(*args):\n",
      "    tmp = list(args) # Or, in Python 2.4+: return sorted(args)[0]\n",
      "    tmp.sort()\n",
      "    return tmp[0]"
     ],
     "language": "python",
     "metadata": {},
     "outputs": [],
     "prompt_number": 1
    },
    {
     "cell_type": "markdown",
     "metadata": {},
     "source": [
      "* Actually, this is fairly complicated. The Python sort routine is coded in C and uses a highly optimized\n",
      "algorithm that attempts to take advantage of partial ordering in the items to be sorted. It\u2019s named \u201ctimsort\u201d\n",
      "after Tim Peters, its creator, and in its documentation it claims to have \u201csupernatural performance\u201d at times\n",
      "(pretty good, for a sort!). Still, sorting is an inherently exponential operation (it must chop up the sequence\n",
      "and put it back together many times), and the other versions simply perform one linear left-to-right scan.\n",
      "The net effect is that sorting is quicker if the arguments are partially ordered, but is likely to be slower\n",
      "otherwise. Even so, Python performance can change over time, and the fact that sorting is implemented in\n",
      "the C language can help greatly; for an exact analysis, you should time the alternatives with the time or\n",
      "timeit modules we\u2019ll meet in Chapter 20."
     ]
    },
    {
     "cell_type": "code",
     "collapsed": false,
     "input": [
      "print(min1(3,4,1,2))"
     ],
     "language": "python",
     "metadata": {},
     "outputs": [
      {
       "output_type": "stream",
       "stream": "stdout",
       "text": [
        "1\n"
       ]
      }
     ],
     "prompt_number": 2
    },
    {
     "cell_type": "code",
     "collapsed": false,
     "input": [
      "print(min2(3,4,1,2))"
     ],
     "language": "python",
     "metadata": {},
     "outputs": [
      {
       "output_type": "stream",
       "stream": "stdout",
       "text": [
        "1\n"
       ]
      }
     ],
     "prompt_number": 3
    },
    {
     "cell_type": "code",
     "collapsed": false,
     "input": [
      "print(min3(3,4,1,2))"
     ],
     "language": "python",
     "metadata": {},
     "outputs": [
      {
       "output_type": "stream",
       "stream": "stdout",
       "text": [
        "1\n"
       ]
      }
     ],
     "prompt_number": 4
    },
    {
     "cell_type": "code",
     "collapsed": false,
     "input": [
      "print(min1(1))"
     ],
     "language": "python",
     "metadata": {},
     "outputs": [
      {
       "output_type": "stream",
       "stream": "stdout",
       "text": [
        "1\n"
       ]
      }
     ],
     "prompt_number": 5
    },
    {
     "cell_type": "code",
     "collapsed": false,
     "input": [
      "print(min2(1))"
     ],
     "language": "python",
     "metadata": {},
     "outputs": [
      {
       "output_type": "stream",
       "stream": "stdout",
       "text": [
        "1\n"
       ]
      }
     ],
     "prompt_number": 6
    },
    {
     "cell_type": "code",
     "collapsed": false,
     "input": [
      "print(min3(1))"
     ],
     "language": "python",
     "metadata": {},
     "outputs": [
      {
       "output_type": "stream",
       "stream": "stdout",
       "text": [
        "1\n"
       ]
      }
     ],
     "prompt_number": 7
    },
    {
     "cell_type": "code",
     "collapsed": false,
     "input": [
      "#This makes everything pretty\n",
      "\n",
      "from IPython.core.display import HTML\n",
      "from urllib import urlopen\n",
      "def css_styling():\n",
      "    styles = open('styles/custom.css', 'r').read()\n",
      "    return HTML(styles)\n",
      "css_styling()"
     ],
     "language": "python",
     "metadata": {},
     "outputs": [
      {
       "html": [
        "<style>\n",
        "    @font-face {\n",
        "        font-family: \"Computer Modern\";\n",
        "        src: url('http://9dbb143991406a7c655e-aa5fcb0a5a4ec34cff238a2d56ca4144.r56.cf5.rackcdn.com/cmunss.otf');\n",
        "    }\n",
        "    @font-face {\n",
        "        font-family: \"Computer Modern\";\n",
        "        font-weight: bold;\n",
        "        src: url('http://9dbb143991406a7c655e-aa5fcb0a5a4ec34cff238a2d56ca4144.r56.cf5.rackcdn.com/cmunsx.otf');\n",
        "    }\n",
        "    @font-face {\n",
        "        font-family: \"Computer Modern\";\n",
        "        font-style: oblique;\n",
        "        src: url('http://9dbb143991406a7c655e-aa5fcb0a5a4ec34cff238a2d56ca4144.r56.cf5.rackcdn.com/cmunsi.otf');\n",
        "    }\n",
        "    @font-face {\n",
        "        font-family: \"Computer Modern\";\n",
        "        font-weight: bold;\n",
        "        font-style: oblique;\n",
        "        src: url('http://9dbb143991406a7c655e-aa5fcb0a5a4ec34cff238a2d56ca4144.r56.cf5.rackcdn.com/cmunso.otf');\n",
        "    }\n",
        "    div.cell{\n",
        "        width:800px;\n",
        "        margin-left:16% !important;\n",
        "        margin-right:auto;\n",
        "    }\n",
        "    h1 {\n",
        "        font-family: Helvetica, serif;\n",
        "    }\n",
        "    h4{\n",
        "        margin-top:12px;\n",
        "        margin-bottom: 3px;\n",
        "       }\n",
        "    div.text_cell_render{\n",
        "        font-family: Computer Modern, \"Helvetica Neue\", Arial, Helvetica, Geneva, sans-serif;\n",
        "        line-height: 145%;\n",
        "        font-size: 130%;\n",
        "        width:800px;\n",
        "        margin-left:auto;\n",
        "        margin-right:auto;\n",
        "    }\n",
        "    .CodeMirror{\n",
        "            font-family: \"Source Code Pro\", source-code-pro,Consolas, monospace;\n",
        "    }\n",
        "    .prompt{\n",
        "        display: None;\n",
        "    }\n",
        "    .text_cell_render h5 {\n",
        "        font-weight: 300;\n",
        "        font-size: 22pt;\n",
        "        color: #4057A1;\n",
        "        font-style: italic;\n",
        "        margin-bottom: .5em;\n",
        "        margin-top: 0.5em;\n",
        "        display: block;\n",
        "    }\n",
        "    \n",
        "    .warning{\n",
        "        color: rgb( 240, 20, 20 )\n",
        "        }  \n",
        "</style>\n",
        "<script>\n",
        "    MathJax.Hub.Config({\n",
        "                        TeX: {\n",
        "                           extensions: [\"AMSmath.js\"]\n",
        "                           },\n",
        "                tex2jax: {\n",
        "                    inlineMath: [ ['$','$'], [\"\\\\(\",\"\\\\)\"] ],\n",
        "                    displayMath: [ ['$$','$$'], [\"\\\\[\",\"\\\\]\"] ]\n",
        "                },\n",
        "                displayAlign: 'center', // Change this to 'center' to center equations.\n",
        "                \"HTML-CSS\": {\n",
        "                    styles: {'.MathJax_Display': {\"margin\": 4}}\n",
        "                }\n",
        "        });\n",
        "</script>\n"
       ],
       "metadata": {},
       "output_type": "pyout",
       "prompt_number": 8,
       "text": [
        "<IPython.core.display.HTML at 0x4ef30f0>"
       ]
      }
     ],
     "prompt_number": 8
    },
    {
     "cell_type": "code",
     "collapsed": false,
     "input": [],
     "language": "python",
     "metadata": {},
     "outputs": []
    }
   ],
   "metadata": {}
  }
 ]
}